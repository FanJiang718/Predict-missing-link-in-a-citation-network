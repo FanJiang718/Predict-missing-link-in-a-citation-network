{
 "cells": [
  {
   "cell_type": "code",
   "execution_count": 1,
   "metadata": {
    "_cell_guid": "79c7e3d0-c299-4dcb-8224-4455121ee9b0",
    "_uuid": "d629ff2d2480ee46fbb7e2d37f6b5fab8052498a",
    "collapsed": true
   },
   "outputs": [],
   "source": [
    "import numpy as np\n",
    "import pandas as pd\n",
    "import sklearn as sk\n",
    "from sklearn.metrics import f1_score\n",
    "from sklearn.model_selection import train_test_split\n",
    "from sklearn import preprocessing\n",
    "import gensim, logging\n",
    "import re\n",
    "import collections\n",
    "import networkx as nx\n",
    "from networkx.algorithms import approximation as approx"
   ]
  },
  {
   "cell_type": "code",
   "execution_count": 2,
   "metadata": {
    "_uuid": "496d99f038de796cfd9e86e0e5e42dca93e82b04",
    "collapsed": true
   },
   "outputs": [],
   "source": [
    "node_info = pd.read_csv(\"./node_information.csv\", names=[\"ID\",\"year\",\"title\",\"authors\",\"journal\",\"abstracts\"])\n",
    "data = np.loadtxt(\"./training_set.txt\")\n",
    "graph = nx.Graph()"
   ]
  },
  {
   "cell_type": "code",
   "execution_count": 3,
   "metadata": {
    "_uuid": "1484b5153bc8cd089ef9f9d25dcc86aa68dddbf4",
    "collapsed": true
   },
   "outputs": [],
   "source": [
    "X, Y = data[:,0:-1], data[:,-1]\n",
    "n = len(Y)\n",
    "#X_pd = pd.DataFrame(X.astype(int),columns=[\"ID1\", \"ID2\"])\n",
    "X_pd = pd.read_csv(\"./train_pd.csv\",index_col=0)"
   ]
  },
  {
   "cell_type": "code",
   "execution_count": 4,
   "metadata": {
    "_uuid": "748b38a23fe4ca9c865b0163b58dd04a37fbaee6",
    "collapsed": true
   },
   "outputs": [],
   "source": [
    "docvecs_abst = gensim.models.KeyedVectors.load(\"./docvec_abstract\")"
   ]
  },
  {
   "cell_type": "code",
   "execution_count": null,
   "metadata": {
    "_uuid": "64d6875aacab71f160d66e8c6492871ead92bdf7",
    "collapsed": true
   },
   "outputs": [],
   "source": [
    "abstracts = []\n",
    "avg_len = 0\n",
    "for i, t in enumerate(node_info.loc[:,\"abstracts\"]):\n",
    "    #abstracts.append(clean_str(gensim.parsing.preprocessing.remove_stopwords(t)))\n",
    "    arr = gensim.parsing.preprocess_string(t)\n",
    "    avg_len += len(arr)\n",
    "    abstracts.append(gensim.models.doc2vec.TaggedDocument(arr, [i]))\n",
    "avg_len /= len(node_info.loc[:,\"abstracts\"])\n",
    "avg_len"
   ]
  },
  {
   "cell_type": "code",
   "execution_count": null,
   "metadata": {
    "_uuid": "c7646bc66be4a236f014da6b7dd8ad17f7be9e5f",
    "collapsed": true
   },
   "outputs": [],
   "source": [
    "model_abst = gensim.models.doc2vec.Doc2Vec(vector_size=20, min_count=5, epochs=100)\n",
    "model_abst.build_vocab(abstracts)\n",
    "%time model_abst.train(abstracts, total_examples=model_abst.corpus_count, epochs=model_abst.epochs)\n",
    "docvecs_abst = model_abst.docvecs\n",
    "docvecs_abst.save(\"./docvec_abstract\")"
   ]
  },
  {
   "cell_type": "code",
   "execution_count": null,
   "metadata": {
    "_uuid": "8ac5da54f10053c0eb223fa6b4ddf03338eebb5e",
    "collapsed": true
   },
   "outputs": [],
   "source": [
    "# ranks = []\n",
    "# second_ranks = []\n",
    "# for doc_id in range(len(abstracts)):\n",
    "#     inferred_vector = model_abst.infer_vector(abstracts[doc_id].words)\n",
    "#     sims = model_abst.docvecs.most_similar([inferred_vector], topn=10)\n",
    "#     tmp = [docid for docid, sim in sims]\n",
    "#     if doc_id in tmp:\n",
    "#         rank = tmp.index(doc_id)\n",
    "#     else:\n",
    "#         rank = -1\n",
    "#     ranks.append(rank)\n",
    "#     second_ranks.append(sims[1])\n",
    "# collections.Counter(ranks)"
   ]
  },
  {
   "cell_type": "code",
   "execution_count": 5,
   "metadata": {
    "_uuid": "efb6db521771a675afd772ea7fc82b6c164554ee",
    "collapsed": true
   },
   "outputs": [],
   "source": [
    "def clean_str(string):\n",
    "    string = re.sub(r\"[^A-Za-z0-9(),!?\\'\\`\\-]\", \" \", string)     \n",
    "    string = re.sub(r\"\\'s\", \" \\'s\", string) \n",
    "    string = re.sub(r\"\\'ve\", \" \\'ve\", string) \n",
    "    string = re.sub(r\"n\\'t\", \" n\\'t\", string) \n",
    "    string = re.sub(r\"\\'re\", \" \\'re\", string) \n",
    "    string = re.sub(r\"\\'d\", \" \\'d\", string) \n",
    "    string = re.sub(r\"\\'ll\", \" \\'ll\", string) \n",
    "    string = re.sub(r\",\", \" , \", string) \n",
    "    string = re.sub(r\"!\", \" ! \", string) \n",
    "    string = re.sub(r\"\\(\", \" \\( \", string) \n",
    "    string = re.sub(r\"\\)\", \" \\) \", string) \n",
    "    string = re.sub(r\"\\?\", \" \\? \", string) \n",
    "    string = re.sub(r\"\\s{2,}\", \" \", string)\n",
    "    return string.strip().split()"
   ]
  },
  {
   "cell_type": "code",
   "execution_count": null,
   "metadata": {
    "collapsed": true
   },
   "outputs": [],
   "source": [
    "%time X_pd[\"year1\"] = X_pd.apply(lambda row: node_info.loc[row[\"ID1\"] == node_info.ID, \"year\"].values[0] ,axis=1)\n",
    "%time X_pd[\"year2\"] = X_pd.apply(lambda row: node_info.loc[row[\"ID2\"] == node_info.ID, \"year\"].values[0] ,axis=1)\n",
    "%time X_pd[\"pos1\"] = X_pd.apply(lambda row: node_info.loc[row[\"ID1\"] == node_info.ID].index[0] ,axis=1)\n",
    "%time X_pd[\"pos2\"] = X_pd.apply(lambda row: node_info.loc[row[\"ID2\"] == node_info.ID].index[0] ,axis=1)\n",
    "%time X_pd[\"simi_abst\"] = X_pd.apply(lambda row: docvecs_abst.similarity(int(row[\"pos1\"]),int(row[\"pos2\"])),axis=1)\n",
    "\n",
    "authors = []\n",
    "avg_len = 0\n",
    "for i, t in enumerate(node_info.loc[:,\"authors\"]):\n",
    "    if not isinstance(t, str):\n",
    "        authors.append([])\n",
    "    else:\n",
    "        arr = t.split(\",\")\n",
    "        avg_len += len(arr)\n",
    "        authors.append(arr)\n",
    "avg_len /= len(node_info.loc[:,\"title\"])\n",
    "avg_len\n",
    "\n",
    "%time X_pd[\"author_overlap\"] = X_pd.apply(lambda row: len(set(authors[int(row[\"pos1\"])]).intersection(set(authors[int(row[\"pos2\"])]))),axis=1)\n",
    "%time X_pd[\"is_self_cite\"] = X_pd.apply(lambda row: row[\"author_overlap\"] > 0 ,axis=1)\n",
    "\n",
    "\n",
    "titles = []\n",
    "avg_len = 0\n",
    "for i, t in enumerate(node_info.loc[:,\"title\"]):\n",
    "    if not isinstance(t, str):\n",
    "        titles.append([])\n",
    "    else:\n",
    "        arr = clean_str(gensim.parsing.preprocessing.remove_stopwords(t))\n",
    "        avg_len += len(arr)\n",
    "        titles.append(arr)\n",
    "avg_len /= len(node_info.loc[:,\"title\"])\n",
    "avg_len\n",
    "%time X_pd[\"title_overlap\"]= X_pd.apply(lambda row: len(set(titles[int(row[\"pos1\"])]).intersection(set(titles[int(row[\"pos2\"])]))), axis = 1)\n",
    "\n"
   ]
  },
  {
   "cell_type": "code",
   "execution_count": 6,
   "metadata": {
    "_uuid": "4ff711514d8e5b7022622cd0796aaa761555dda7",
    "collapsed": true
   },
   "outputs": [],
   "source": [
    "for i in range(len(node_info)):\n",
    "    graph.add_node(i)\n",
    "for i in range(n):\n",
    "    if Y[i] == 1:\n",
    "        graph.add_edge(X_pd.loc[i,\"pos1\"],X_pd.loc[i,\"pos2\"])"
   ]
  },
  {
   "cell_type": "code",
   "execution_count": null,
   "metadata": {
    "_uuid": "f36af5c70e0454f7e6d116138bd0216e1f1630a7",
    "collapsed": true
   },
   "outputs": [],
   "source": [
    "# %time betwen_centrality = nx.algorithms.centrality.betweenness_centrality(graph)"
   ]
  },
  {
   "cell_type": "code",
   "execution_count": null,
   "metadata": {
    "collapsed": true
   },
   "outputs": [],
   "source": [
    "journals = []\n",
    "avg_len = 0\n",
    "for i, t in enumerate(node_info.loc[:,\"journal\"]):\n",
    "    if not isinstance(t, str):\n",
    "        journals.append([])\n",
    "    else:\n",
    "        arr = t.split(\".\")\n",
    "        avg_len += len(arr)\n",
    "        journals.append(arr)\n",
    "avg_len /= len(node_info.loc[:,\"journal\"])\n",
    "avg_len\n",
    "\n",
    "def journal_overlap(row,journals,node_info):\n",
    "    pos1 = int(row[\"pos1\"])\n",
    "    pos2 = int(row[\"pos2\"])\n",
    "    journal1 = journals[pos1]\n",
    "    journal2 = journals[pos2]\n",
    "    journal_overlap =len(set(journal1).intersection(set(journal2)))\n",
    "    return journal_overlap\n",
    "%time X_pd[\"journal_overlap\"]= X_pd.apply(lambda row: journal_overlap(row,journals,node_info), axis = 1)\n",
    "str_journal = list(node_info[\"journal\"])\n",
    "%time X_pd[\"journal_overlap_original\"]= X_pd.apply(lambda row: int(str_journal[int(row[\"pos1\"])] == str_journal[int(row[\"pos2\"])]), axis = 1)\n",
    "%time X_pd[\"neighbors_1\"] = X_pd.apply(lambda row: graph.degree(row[\"pos1\"]),axis = 1)\n",
    "%time X_pd[\"neighbors_2\"] = X_pd.apply(lambda row: graph.degree(row[\"pos2\"]),axis = 1)\n",
    "%time X_pd[\"common_neighbors\"] = X_pd.apply(lambda row: len(list(nx.common_neighbors(graph,row[\"pos1\"],row[\"pos2\"]))), axis =1)\n",
    "def jaccard_cal(row):\n",
    "    union = len(set(graph[row[\"pos1\"]]) | set(graph[row[\"pos2\"]]))\n",
    "    if union == 0:\n",
    "        return 0\n",
    "    else:\n",
    "        return row[\"common_neighbors\"]/union\n",
    "\n",
    "%time X_pd[\"jaccard\"] = X_pd.apply(lambda row: jaccard_cal(row), axis =1)\n",
    "%time X_pd[\"resource_allocation\"] = X_pd.apply(lambda row: sum(1./graph.degree(w) for w in nx.common_neighbors(graph,row[\"pos1\"],row[\"pos2\"])), axis = 1)\n",
    "%time X_pd[\"adamic_adar_index\"] = X_pd.apply(lambda row: sum(1./np.log(graph.degree(w)) for w in nx.common_neighbors(graph,row[\"pos1\"],row[\"pos2\"])), axis = 1)\n",
    "# %time X_pd[\"connectivity\"] = X_pd.apply(lambda row: approx.local_node_connectivity(graph, row[\"pos1\"], row[\"pos2\"]),axis = 1)\n",
    "X_pd.to_csv('train_pd.csv', index = True)"
   ]
  },
  {
   "cell_type": "code",
   "execution_count": null,
   "metadata": {
    "collapsed": true
   },
   "outputs": [],
   "source": [
    "%time X_pd[\"connectivity\"] = X_pd.apply(lambda row: approx.local_node_connectivity(graph, row[\"pos1\"], row[\"pos2\"]),axis = 1)"
   ]
  },
  {
   "cell_type": "code",
   "execution_count": 7,
   "metadata": {
    "_uuid": "395a094f8e8ebd50f456efa184bea576e27a17e2",
    "collapsed": true
   },
   "outputs": [],
   "source": [
    "data_test = np.loadtxt(\"./testing_set.txt\")\n",
    "n_test = len(data_test)\n",
    "# test_pd = pd.DataFrame(data_test.astype(int),columns=[\"ID1\", \"ID2\"])\n",
    "test_pd = pd.read_csv(\"./test_pd.csv\",index_col=0)\n",
    "# docvecs_abst = gensim.models.KeyedVectors.load(\"../input/citation-network/docvec_abstract\")\n",
    "docvecs_abst.save(\"./docvec_abstract\")"
   ]
  },
  {
   "cell_type": "code",
   "execution_count": null,
   "metadata": {
    "collapsed": true
   },
   "outputs": [],
   "source": [
    "%time test_pd[\"year1\"] = test_pd.apply(lambda row: node_info.loc[row[\"ID1\"] == node_info.ID, \"year\"].values[0] ,axis=1)\n",
    "%time test_pd[\"year2\"] = test_pd.apply(lambda row: node_info.loc[row[\"ID2\"] == node_info.ID, \"year\"].values[0] ,axis=1)\n",
    "%time test_pd[\"pos1\"] = test_pd.apply(lambda row: node_info.loc[row[\"ID1\"] == node_info.ID].index[0] ,axis=1)\n",
    "%time test_pd[\"pos2\"] = test_pd.apply(lambda row: node_info.loc[row[\"ID2\"] == node_info.ID].index[0] ,axis=1)\n",
    "%time test_pd[\"simi_abst\"] = test_pd.apply(lambda row: docvecs_abst.similarity(int(row[\"pos1\"]),int(row[\"pos2\"])),axis=1)\n",
    "\n",
    "authors = []\n",
    "avg_len = 0\n",
    "for i, t in enumerate(node_info.loc[:,\"authors\"]):\n",
    "    if not isinstance(t, str):\n",
    "        authors.append([])\n",
    "    else:\n",
    "        arr = t.split(\",\")\n",
    "        avg_len += len(arr)\n",
    "        authors.append(arr)\n",
    "avg_len /= len(node_info.loc[:,\"title\"])\n",
    "avg_len\n",
    "\n",
    "%time test_pd[\"author_overlap\"] = test_pd.apply(lambda row: len(set(authors[int(row[\"pos1\"])]).intersection(set(authors[int(row[\"pos2\"])]))),axis=1)\n",
    "%time test_pd[\"is_self_cite\"] = test_pd.apply(lambda row: row[\"author_overlap\"] > 0 ,axis=1)\n",
    "\n",
    "\n",
    "titles = []\n",
    "avg_len = 0\n",
    "for i, t in enumerate(node_info.loc[:,\"title\"]):\n",
    "    if not isinstance(t, str):\n",
    "        titles.append([])\n",
    "    else:\n",
    "        arr = clean_str(gensim.parsing.preprocessing.remove_stopwords(t))\n",
    "        avg_len += len(arr)\n",
    "        titles.append(arr)\n",
    "avg_len /= len(node_info.loc[:,\"title\"])\n",
    "avg_len\n",
    "%time test_pd[\"title_overlap\"]= test_pd.apply(lambda row: len(set(titles[int(row[\"pos1\"])]).intersection(set(titles[int(row[\"pos2\"])]))), axis = 1)\n",
    "\n",
    "journals = []\n",
    "avg_len = 0\n",
    "for i, t in enumerate(node_info.loc[:,\"journal\"]):\n",
    "    if not isinstance(t, str):\n",
    "        journals.append([])\n",
    "    else:\n",
    "        arr = t.split(\".\")\n",
    "        avg_len += len(arr)\n",
    "        journals.append(arr)\n",
    "avg_len /= len(node_info.loc[:,\"journal\"])\n",
    "avg_len\n",
    "\n",
    "def journal_overlap(row,journals,node_info):\n",
    "    pos1 = int(row[\"pos1\"])\n",
    "    pos2 = int(row[\"pos2\"])\n",
    "    journal1 = journals[pos1]\n",
    "    journal2 = journals[pos2]\n",
    "    journal_overlap =len(set(journal1).intersection(set(journal2)))\n",
    "    return journal_overlap\n",
    "\n",
    "%time test_pd[\"journal_overlap\"]= test_pd.apply(lambda row: journal_overlap(row,journals,node_info), axis = 1)\n",
    "str_journal = list(node_info[\"journal\"])\n",
    "%time test_pd[\"journal_overlap_original\"]= test_pd.apply(lambda row: int(str_journal[int(row[\"pos1\"])] == str_journal[int(row[\"pos2\"])]), axis = 1)\n",
    "\n",
    "\n",
    "%time test_pd[\"neighbors_1\"] = test_pd.apply(lambda row: graph.degree(row[\"pos1\"]),axis = 1)\n",
    "%time test_pd[\"neighbors_2\"] = test_pd.apply(lambda row: graph.degree(row[\"pos2\"]),axis = 1)\n",
    "%time test_pd[\"common_neighbors\"] = test_pd.apply(lambda row: len(list(nx.common_neighbors(graph,row[\"pos1\"],row[\"pos2\"]))), axis =1)\n",
    "def jaccard_cal(row):\n",
    "    union = len(set(graph[row[\"pos1\"]]) | set(graph[row[\"pos2\"]]))\n",
    "    if union == 0:\n",
    "        return 0\n",
    "    else:\n",
    "        return row[\"common_neighbors\"]/union\n",
    "\n",
    "%time test_pd[\"jaccard\"] = test_pd.apply(lambda row: jaccard_cal(row), axis =1)\n",
    "%time test_pd[\"resource_allocation\"] = test_pd.apply(lambda row: sum(1./graph.degree(w) for w in nx.common_neighbors(graph,row[\"pos1\"],row[\"pos2\"])), axis = 1)\n",
    "%time test_pd[\"adamic_adar_index\"] = test_pd.apply(lambda row: sum(1./np.log(graph.degree(w)) for w in nx.common_neighbors(graph,row[\"pos1\"],row[\"pos2\"])), axis = 1)\n",
    "\n",
    "\n",
    "# %time test_pd[\"connectivity\"] = test_pd.apply(lambda row: approx.local_node_connectivity(graph, row[\"pos1\"], row[\"pos2\"]),axis = 1)\n",
    "\n",
    "test_pd.to_csv('test_pd.csv', index = True)"
   ]
  },
  {
   "cell_type": "code",
   "execution_count": 8,
   "metadata": {},
   "outputs": [
    {
     "data": {
      "text/html": [
       "<div>\n",
       "<style>\n",
       "    .dataframe thead tr:only-child th {\n",
       "        text-align: right;\n",
       "    }\n",
       "\n",
       "    .dataframe thead th {\n",
       "        text-align: left;\n",
       "    }\n",
       "\n",
       "    .dataframe tbody tr th {\n",
       "        vertical-align: top;\n",
       "    }\n",
       "</style>\n",
       "<table border=\"1\" class=\"dataframe\">\n",
       "  <thead>\n",
       "    <tr style=\"text-align: right;\">\n",
       "      <th></th>\n",
       "      <th>ID1</th>\n",
       "      <th>ID2</th>\n",
       "      <th>year1</th>\n",
       "      <th>year2</th>\n",
       "      <th>pos1</th>\n",
       "      <th>pos2</th>\n",
       "      <th>simi_abst</th>\n",
       "      <th>author_overlap</th>\n",
       "      <th>title_overlap</th>\n",
       "      <th>journal_overlap</th>\n",
       "      <th>...</th>\n",
       "      <th>neighbors_1</th>\n",
       "      <th>neighbors_2</th>\n",
       "      <th>common_neighbors</th>\n",
       "      <th>jaccard</th>\n",
       "      <th>resource_allocation</th>\n",
       "      <th>connectivity</th>\n",
       "      <th>preferential_attachement</th>\n",
       "      <th>community1</th>\n",
       "      <th>community2</th>\n",
       "      <th>same_community</th>\n",
       "    </tr>\n",
       "  </thead>\n",
       "  <tbody>\n",
       "    <tr>\n",
       "      <th>0</th>\n",
       "      <td>9807076</td>\n",
       "      <td>9807139</td>\n",
       "      <td>1998</td>\n",
       "      <td>1998</td>\n",
       "      <td>23774</td>\n",
       "      <td>23835</td>\n",
       "      <td>0.346607</td>\n",
       "      <td>0</td>\n",
       "      <td>0</td>\n",
       "      <td>2</td>\n",
       "      <td>...</td>\n",
       "      <td>59</td>\n",
       "      <td>18</td>\n",
       "      <td>0</td>\n",
       "      <td>0.000000</td>\n",
       "      <td>0.000000</td>\n",
       "      <td>18</td>\n",
       "      <td>1062</td>\n",
       "      <td>0</td>\n",
       "      <td>0</td>\n",
       "      <td>1</td>\n",
       "    </tr>\n",
       "    <tr>\n",
       "      <th>1</th>\n",
       "      <td>109162</td>\n",
       "      <td>1182</td>\n",
       "      <td>2001</td>\n",
       "      <td>2000</td>\n",
       "      <td>5227</td>\n",
       "      <td>172</td>\n",
       "      <td>0.473994</td>\n",
       "      <td>0</td>\n",
       "      <td>1</td>\n",
       "      <td>0</td>\n",
       "      <td>...</td>\n",
       "      <td>302</td>\n",
       "      <td>45</td>\n",
       "      <td>24</td>\n",
       "      <td>0.074303</td>\n",
       "      <td>0.311535</td>\n",
       "      <td>45</td>\n",
       "      <td>13590</td>\n",
       "      <td>6</td>\n",
       "      <td>6</td>\n",
       "      <td>1</td>\n",
       "    </tr>\n",
       "    <tr>\n",
       "      <th>2</th>\n",
       "      <td>9702187</td>\n",
       "      <td>9510135</td>\n",
       "      <td>1997</td>\n",
       "      <td>1995</td>\n",
       "      <td>20185</td>\n",
       "      <td>16838</td>\n",
       "      <td>0.520707</td>\n",
       "      <td>0</td>\n",
       "      <td>1</td>\n",
       "      <td>3</td>\n",
       "      <td>...</td>\n",
       "      <td>223</td>\n",
       "      <td>739</td>\n",
       "      <td>59</td>\n",
       "      <td>0.065338</td>\n",
       "      <td>1.342594</td>\n",
       "      <td>223</td>\n",
       "      <td>164797</td>\n",
       "      <td>12</td>\n",
       "      <td>12</td>\n",
       "      <td>1</td>\n",
       "    </tr>\n",
       "    <tr>\n",
       "      <th>3</th>\n",
       "      <td>111048</td>\n",
       "      <td>110115</td>\n",
       "      <td>2001</td>\n",
       "      <td>2001</td>\n",
       "      <td>5621</td>\n",
       "      <td>5397</td>\n",
       "      <td>0.280709</td>\n",
       "      <td>0</td>\n",
       "      <td>1</td>\n",
       "      <td>1</td>\n",
       "      <td>...</td>\n",
       "      <td>51</td>\n",
       "      <td>65</td>\n",
       "      <td>21</td>\n",
       "      <td>0.221053</td>\n",
       "      <td>0.298419</td>\n",
       "      <td>51</td>\n",
       "      <td>3315</td>\n",
       "      <td>13</td>\n",
       "      <td>13</td>\n",
       "      <td>1</td>\n",
       "    </tr>\n",
       "    <tr>\n",
       "      <th>4</th>\n",
       "      <td>9910176</td>\n",
       "      <td>9410073</td>\n",
       "      <td>1999</td>\n",
       "      <td>1994</td>\n",
       "      <td>27159</td>\n",
       "      <td>14643</td>\n",
       "      <td>0.581315</td>\n",
       "      <td>0</td>\n",
       "      <td>0</td>\n",
       "      <td>1</td>\n",
       "      <td>...</td>\n",
       "      <td>7</td>\n",
       "      <td>150</td>\n",
       "      <td>0</td>\n",
       "      <td>0.000000</td>\n",
       "      <td>0.000000</td>\n",
       "      <td>7</td>\n",
       "      <td>1050</td>\n",
       "      <td>12</td>\n",
       "      <td>12</td>\n",
       "      <td>1</td>\n",
       "    </tr>\n",
       "  </tbody>\n",
       "</table>\n",
       "<p>5 rows × 21 columns</p>\n",
       "</div>"
      ],
      "text/plain": [
       "       ID1      ID2  year1  year2   pos1   pos2  simi_abst  author_overlap  \\\n",
       "0  9807076  9807139   1998   1998  23774  23835   0.346607               0   \n",
       "1   109162     1182   2001   2000   5227    172   0.473994               0   \n",
       "2  9702187  9510135   1997   1995  20185  16838   0.520707               0   \n",
       "3   111048   110115   2001   2001   5621   5397   0.280709               0   \n",
       "4  9910176  9410073   1999   1994  27159  14643   0.581315               0   \n",
       "\n",
       "   title_overlap  journal_overlap       ...        neighbors_1  neighbors_2  \\\n",
       "0              0                2       ...                 59           18   \n",
       "1              1                0       ...                302           45   \n",
       "2              1                3       ...                223          739   \n",
       "3              1                1       ...                 51           65   \n",
       "4              0                1       ...                  7          150   \n",
       "\n",
       "   common_neighbors   jaccard  resource_allocation  connectivity  \\\n",
       "0                 0  0.000000             0.000000            18   \n",
       "1                24  0.074303             0.311535            45   \n",
       "2                59  0.065338             1.342594           223   \n",
       "3                21  0.221053             0.298419            51   \n",
       "4                 0  0.000000             0.000000             7   \n",
       "\n",
       "   preferential_attachement  community1  community2  same_community  \n",
       "0                      1062           0           0               1  \n",
       "1                     13590           6           6               1  \n",
       "2                    164797          12          12               1  \n",
       "3                      3315          13          13               1  \n",
       "4                      1050          12          12               1  \n",
       "\n",
       "[5 rows x 21 columns]"
      ]
     },
     "execution_count": 8,
     "metadata": {},
     "output_type": "execute_result"
    }
   ],
   "source": [
    "test_pd.head()"
   ]
  },
  {
   "cell_type": "code",
   "execution_count": 9,
   "metadata": {
    "_uuid": "371d9c3034ec51b6444bed531dc061f8a88c151c"
   },
   "outputs": [
    {
     "data": {
      "text/html": [
       "<div>\n",
       "<style>\n",
       "    .dataframe thead tr:only-child th {\n",
       "        text-align: right;\n",
       "    }\n",
       "\n",
       "    .dataframe thead th {\n",
       "        text-align: left;\n",
       "    }\n",
       "\n",
       "    .dataframe tbody tr th {\n",
       "        vertical-align: top;\n",
       "    }\n",
       "</style>\n",
       "<table border=\"1\" class=\"dataframe\">\n",
       "  <thead>\n",
       "    <tr style=\"text-align: right;\">\n",
       "      <th></th>\n",
       "      <th>ID1</th>\n",
       "      <th>ID2</th>\n",
       "      <th>year1</th>\n",
       "      <th>year2</th>\n",
       "      <th>pos1</th>\n",
       "      <th>pos2</th>\n",
       "      <th>simi_abst</th>\n",
       "      <th>author_overlap</th>\n",
       "      <th>title_overlap</th>\n",
       "      <th>journal_overlap</th>\n",
       "      <th>...</th>\n",
       "      <th>neighbors_1</th>\n",
       "      <th>neighbors_2</th>\n",
       "      <th>common_neighbors</th>\n",
       "      <th>jaccard</th>\n",
       "      <th>resource_allocation</th>\n",
       "      <th>connectivity</th>\n",
       "      <th>preferential_attachement</th>\n",
       "      <th>community1</th>\n",
       "      <th>community2</th>\n",
       "      <th>same_community</th>\n",
       "    </tr>\n",
       "  </thead>\n",
       "  <tbody>\n",
       "    <tr>\n",
       "      <th>0</th>\n",
       "      <td>9510123</td>\n",
       "      <td>9502114</td>\n",
       "      <td>1995.0</td>\n",
       "      <td>1995.0</td>\n",
       "      <td>16827.0</td>\n",
       "      <td>15446.0</td>\n",
       "      <td>0.228531</td>\n",
       "      <td>0.0</td>\n",
       "      <td>2.0</td>\n",
       "      <td>3</td>\n",
       "      <td>...</td>\n",
       "      <td>6</td>\n",
       "      <td>12</td>\n",
       "      <td>1</td>\n",
       "      <td>0.058824</td>\n",
       "      <td>0.142857</td>\n",
       "      <td>6</td>\n",
       "      <td>72</td>\n",
       "      <td>5</td>\n",
       "      <td>5</td>\n",
       "      <td>1</td>\n",
       "    </tr>\n",
       "    <tr>\n",
       "      <th>1</th>\n",
       "      <td>9707075</td>\n",
       "      <td>9604178</td>\n",
       "      <td>1997.0</td>\n",
       "      <td>1996.0</td>\n",
       "      <td>21154.0</td>\n",
       "      <td>18059.0</td>\n",
       "      <td>0.473765</td>\n",
       "      <td>0.0</td>\n",
       "      <td>0.0</td>\n",
       "      <td>0</td>\n",
       "      <td>...</td>\n",
       "      <td>79</td>\n",
       "      <td>147</td>\n",
       "      <td>20</td>\n",
       "      <td>0.097087</td>\n",
       "      <td>0.226401</td>\n",
       "      <td>79</td>\n",
       "      <td>11613</td>\n",
       "      <td>0</td>\n",
       "      <td>0</td>\n",
       "      <td>1</td>\n",
       "    </tr>\n",
       "    <tr>\n",
       "      <th>2</th>\n",
       "      <td>9312155</td>\n",
       "      <td>9506142</td>\n",
       "      <td>1993.0</td>\n",
       "      <td>1995.0</td>\n",
       "      <td>13074.0</td>\n",
       "      <td>16171.0</td>\n",
       "      <td>0.240585</td>\n",
       "      <td>0.0</td>\n",
       "      <td>0.0</td>\n",
       "      <td>1</td>\n",
       "      <td>...</td>\n",
       "      <td>1</td>\n",
       "      <td>5</td>\n",
       "      <td>0</td>\n",
       "      <td>0.000000</td>\n",
       "      <td>0.000000</td>\n",
       "      <td>1</td>\n",
       "      <td>5</td>\n",
       "      <td>14</td>\n",
       "      <td>4</td>\n",
       "      <td>0</td>\n",
       "    </tr>\n",
       "    <tr>\n",
       "      <th>3</th>\n",
       "      <td>9911255</td>\n",
       "      <td>302165</td>\n",
       "      <td>1999.0</td>\n",
       "      <td>2003.0</td>\n",
       "      <td>27486.0</td>\n",
       "      <td>9702.0</td>\n",
       "      <td>0.460808</td>\n",
       "      <td>0.0</td>\n",
       "      <td>0.0</td>\n",
       "      <td>0</td>\n",
       "      <td>...</td>\n",
       "      <td>20</td>\n",
       "      <td>14</td>\n",
       "      <td>0</td>\n",
       "      <td>0.000000</td>\n",
       "      <td>0.000000</td>\n",
       "      <td>14</td>\n",
       "      <td>280</td>\n",
       "      <td>13</td>\n",
       "      <td>13</td>\n",
       "      <td>1</td>\n",
       "    </tr>\n",
       "    <tr>\n",
       "      <th>4</th>\n",
       "      <td>9701033</td>\n",
       "      <td>209076</td>\n",
       "      <td>1997.0</td>\n",
       "      <td>2002.0</td>\n",
       "      <td>19856.0</td>\n",
       "      <td>8212.0</td>\n",
       "      <td>0.664643</td>\n",
       "      <td>0.0</td>\n",
       "      <td>0.0</td>\n",
       "      <td>0</td>\n",
       "      <td>...</td>\n",
       "      <td>7</td>\n",
       "      <td>24</td>\n",
       "      <td>0</td>\n",
       "      <td>0.000000</td>\n",
       "      <td>0.000000</td>\n",
       "      <td>7</td>\n",
       "      <td>168</td>\n",
       "      <td>5</td>\n",
       "      <td>1</td>\n",
       "      <td>0</td>\n",
       "    </tr>\n",
       "  </tbody>\n",
       "</table>\n",
       "<p>5 rows × 21 columns</p>\n",
       "</div>"
      ],
      "text/plain": [
       "       ID1      ID2   year1   year2     pos1     pos2  simi_abst  \\\n",
       "0  9510123  9502114  1995.0  1995.0  16827.0  15446.0   0.228531   \n",
       "1  9707075  9604178  1997.0  1996.0  21154.0  18059.0   0.473765   \n",
       "2  9312155  9506142  1993.0  1995.0  13074.0  16171.0   0.240585   \n",
       "3  9911255   302165  1999.0  2003.0  27486.0   9702.0   0.460808   \n",
       "4  9701033   209076  1997.0  2002.0  19856.0   8212.0   0.664643   \n",
       "\n",
       "   author_overlap  title_overlap  journal_overlap       ...        \\\n",
       "0             0.0            2.0                3       ...         \n",
       "1             0.0            0.0                0       ...         \n",
       "2             0.0            0.0                1       ...         \n",
       "3             0.0            0.0                0       ...         \n",
       "4             0.0            0.0                0       ...         \n",
       "\n",
       "   neighbors_1  neighbors_2  common_neighbors   jaccard  resource_allocation  \\\n",
       "0            6           12                 1  0.058824             0.142857   \n",
       "1           79          147                20  0.097087             0.226401   \n",
       "2            1            5                 0  0.000000             0.000000   \n",
       "3           20           14                 0  0.000000             0.000000   \n",
       "4            7           24                 0  0.000000             0.000000   \n",
       "\n",
       "   connectivity  preferential_attachement  community1  community2  \\\n",
       "0             6                        72           5           5   \n",
       "1            79                     11613           0           0   \n",
       "2             1                         5          14           4   \n",
       "3            14                       280          13          13   \n",
       "4             7                       168           5           1   \n",
       "\n",
       "   same_community  \n",
       "0               1  \n",
       "1               1  \n",
       "2               0  \n",
       "3               1  \n",
       "4               0  \n",
       "\n",
       "[5 rows x 21 columns]"
      ]
     },
     "execution_count": 9,
     "metadata": {},
     "output_type": "execute_result"
    }
   ],
   "source": [
    "X_pd.head()"
   ]
  },
  {
   "cell_type": "code",
   "execution_count": 10,
   "metadata": {},
   "outputs": [
    {
     "name": "stdout",
     "output_type": "stream",
     "text": [
      "CPU times: user 22.1 s, sys: 334 ms, total: 22.4 s\n",
      "Wall time: 22.9 s\n"
     ]
    }
   ],
   "source": [
    "%time X_pd[\"preferential_attachement\"] = X_pd.apply(lambda row: graph.degree(row[\"pos1\"])*graph.degree(row[\"pos2\"]), axis = 1)"
   ]
  },
  {
   "cell_type": "code",
   "execution_count": 11,
   "metadata": {
    "_uuid": "af4a1860d618a17c0bf94192ed0bc13cbd8e9214"
   },
   "outputs": [
    {
     "name": "stdout",
     "output_type": "stream",
     "text": [
      "CPU times: user 1.41 s, sys: 20.1 ms, total: 1.43 s\n",
      "Wall time: 1.32 s\n"
     ]
    }
   ],
   "source": [
    "%time test_pd[\"preferential_attachement\"] = test_pd.apply(lambda row: graph.degree(row[\"pos1\"])*graph.degree(row[\"pos2\"]), axis = 1)"
   ]
  },
  {
   "cell_type": "code",
   "execution_count": 12,
   "metadata": {
    "collapsed": true
   },
   "outputs": [],
   "source": [
    "import community #pip install python-louvain"
   ]
  },
  {
   "cell_type": "code",
   "execution_count": 13,
   "metadata": {
    "collapsed": true
   },
   "outputs": [],
   "source": [
    "partition = community.best_partition(graph)"
   ]
  },
  {
   "cell_type": "code",
   "execution_count": 17,
   "metadata": {},
   "outputs": [
    {
     "name": "stdout",
     "output_type": "stream",
     "text": [
      "CPU times: user 9.81 s, sys: 365 ms, total: 10.2 s\n",
      "Wall time: 10.3 s\n",
      "CPU times: user 9.6 s, sys: 222 ms, total: 9.82 s\n",
      "Wall time: 9.65 s\n",
      "CPU times: user 14.9 s, sys: 269 ms, total: 15.1 s\n",
      "Wall time: 15 s\n"
     ]
    }
   ],
   "source": [
    "%time X_pd[\"community1\"] = X_pd.apply(lambda row: partition[row[\"pos1\"]], axis = 1)\n",
    "%time X_pd[\"community2\"] = X_pd.apply(lambda row: partition[row[\"pos2\"]], axis = 1)\n",
    "%time X_pd[\"same_community\"] = X_pd.apply(lambda row: int(partition[row[\"pos1\"]] == partition[row[\"pos2\"]]), axis = 1)"
   ]
  },
  {
   "cell_type": "code",
   "execution_count": 18,
   "metadata": {},
   "outputs": [
    {
     "name": "stdout",
     "output_type": "stream",
     "text": [
      "CPU times: user 698 ms, sys: 23.8 ms, total: 722 ms\n",
      "Wall time: 543 ms\n",
      "CPU times: user 500 ms, sys: 8.75 ms, total: 509 ms\n",
      "Wall time: 511 ms\n",
      "CPU times: user 775 ms, sys: 9.95 ms, total: 785 ms\n",
      "Wall time: 788 ms\n"
     ]
    }
   ],
   "source": [
    "%time test_pd[\"community1\"] = test_pd.apply(lambda row: partition[row[\"pos1\"]], axis = 1)\n",
    "%time test_pd[\"community2\"] = test_pd.apply(lambda row: partition[row[\"pos2\"]], axis = 1)\n",
    "%time test_pd[\"same_community\"] = test_pd.apply(lambda row: int(partition[row[\"pos1\"]] == partition[row[\"pos2\"]]), axis = 1)"
   ]
  },
  {
   "cell_type": "code",
   "execution_count": null,
   "metadata": {
    "collapsed": true
   },
   "outputs": [],
   "source": [
    "def shortest_path_dijk(row,graph):\n",
    "    try:\n",
    "        res = nx.dijkstra_path_length(graph,row[\"pos1\"], row[\"pos2\"])\n",
    "    except:\n",
    "        res = -1\n",
    "    \n",
    "    return res"
   ]
  },
  {
   "cell_type": "code",
   "execution_count": null,
   "metadata": {
    "_uuid": "6a6e2c02886f19619ed39eea95b4c0d30f42d3f2",
    "collapsed": true
   },
   "outputs": [],
   "source": [
    "%time X_pd[\"shortest_path\"] = X_pd.apply(lambda row: shortest_path_dijk(row,graph), axis = 1)"
   ]
  },
  {
   "cell_type": "code",
   "execution_count": null,
   "metadata": {
    "collapsed": true
   },
   "outputs": [],
   "source": [
    "%time test_pd[\"shortest_path\"] = test_pd.apply(lambda row: shortest_path_dijk(row,graph), axis = 1)"
   ]
  },
  {
   "cell_type": "code",
   "execution_count": 21,
   "metadata": {
    "collapsed": true
   },
   "outputs": [],
   "source": [
    "X_pd.to_csv('train_pd.csv', index = True)\n",
    "test_pd.to_csv('test_pd.csv', index = True)"
   ]
  },
  {
   "cell_type": "code",
   "execution_count": 11,
   "metadata": {},
   "outputs": [
    {
     "name": "stdout",
     "output_type": "stream",
     "text": [
      "CPU times: user 473 ms, sys: 16.7 ms, total: 490 ms\n",
      "Wall time: 492 ms\n"
     ]
    }
   ],
   "source": [
    "%time test_pd[\"is_self_cite\"] = test_pd.apply(lambda row: row[\"author_overlap\"] > 0 ,axis=1)"
   ]
  },
  {
   "cell_type": "code",
   "execution_count": 13,
   "metadata": {},
   "outputs": [
    {
     "name": "stdout",
     "output_type": "stream",
     "text": [
      "CPU times: user 1min 46s, sys: 487 ms, total: 1min 46s\n",
      "Wall time: 1min 46s\n"
     ]
    }
   ],
   "source": [
    "%time X_pd[\"adamic_adar_index\"] = X_pd.apply(lambda row: sum(1./np.log(graph.degree(w)) for w in nx.common_neighbors(graph,row[\"pos1\"],row[\"pos2\"])), axis = 1)"
   ]
  },
  {
   "cell_type": "code",
   "execution_count": null,
   "metadata": {
    "collapsed": true
   },
   "outputs": [],
   "source": []
  }
 ],
 "metadata": {
  "kernelspec": {
   "display_name": "Python 3",
   "language": "python",
   "name": "python3"
  },
  "language_info": {
   "codemirror_mode": {
    "name": "ipython",
    "version": 3
   },
   "file_extension": ".py",
   "mimetype": "text/x-python",
   "name": "python",
   "nbconvert_exporter": "python",
   "pygments_lexer": "ipython3",
   "version": "3.6.3"
  }
 },
 "nbformat": 4,
 "nbformat_minor": 1
}
